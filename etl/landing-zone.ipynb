{
 "cells": [
  {
   "cell_type": "markdown",
   "metadata": {
    "application/vnd.databricks.v1+cell": {
     "cellMetadata": {},
     "inputWidgets": {},
     "nuid": "2c498ecc-c3dd-4a03-a43d-2bac27978ae4",
     "showTitle": false,
     "title": ""
    }
   },
   "source": [
    "### Criando ponto de montagem do container landing-zone"
   ]
  },
  {
   "cell_type": "code",
   "execution_count": null,
   "metadata": {
    "application/vnd.databricks.v1+cell": {
     "cellMetadata": {
      "byteLimit": 2048000,
      "rowLimit": 10000
     },
     "inputWidgets": {},
     "nuid": "0e3423dc-ba1c-4a0a-99bd-da2f5b9dbeae",
     "showTitle": false,
     "title": ""
    }
   },
   "outputs": [
    {
     "name": "stdout",
     "output_type": "stream",
     "text": [
      "OK!\n",
      "OK!\n",
      "OK!\n",
      "OK!\n"
     ]
    }
   ],
   "source": [
    "# Conectando com Azure Data Lake usando SASToken\n",
    "storageAccountName = \"satcseguroimoveis\"\n",
    "sasToken = \"sv=2022-11-02&ss=bfqt&srt=co&sp=rwdlacupyx&se=2024-06-28T09:15:32Z&st=2024-06-27T01:15:32Z&spr=https&sig=r6o07RmWkGJ8CZ0fCyK1jrMyLYgKljsBuU6VJ9iWUI4%3D\"\n",
    "\n",
    "def mount_adls(blobContainerName):\n",
    "    try:\n",
    "      dbutils.fs.mount(\n",
    "        source = \"wasbs://{}@{}.blob.core.windows.net\".format(blobContainerName, storageAccountName),\n",
    "        mount_point = f\"/mnt/{storageAccountName}/{blobContainerName}\",\n",
    "        extra_configs = {'fs.azure.sas.' + blobContainerName + '.' + storageAccountName + '.blob.core.windows.net': sasToken}\n",
    "      )\n",
    "      print(\"OK!\")\n",
    "    except Exception as e:\n",
    "      print(\"Falha\", e)\n",
    "\n",
    "\n",
    "mount_adls('landing-zone')\n",
    "mount_adls('bronze')\n",
    "mount_adls('silver')\n",
    "mount_adls('gold')"
   ]
  },
  {
   "cell_type": "markdown",
   "metadata": {
    "application/vnd.databricks.v1+cell": {
     "cellMetadata": {},
     "inputWidgets": {},
     "nuid": "668af40c-b5f5-401f-bc14-7a29d71b9afc",
     "showTitle": false,
     "title": ""
    }
   },
   "source": [
    "### Lendo as tabelas do banco e salvando em .CSV no container landing-zone"
   ]
  },
  {
   "cell_type": "code",
   "execution_count": null,
   "metadata": {
    "application/vnd.databricks.v1+cell": {
     "cellMetadata": {
      "byteLimit": 2048000,
      "rowLimit": 10000
     },
     "inputWidgets": {},
     "nuid": "3d0a25aa-e6a4-44fb-bf4d-133d1733f1b7",
     "showTitle": false,
     "title": ""
    }
   },
   "outputs": [],
   "source": [
    "tables = [\"apolice_cobertura\", \"cobertura\", \"sinistro\", \"pagamento\", \"apolice\", \"avaliacao\", \"imovel\", \"cliente\"]\n",
    "\n",
    "for table in tables:\n",
    "    remote_table = (spark.read\n",
    "    .format(\"sqlserver\")\n",
    "    .option(\"host\", \"satcseguroimoveissqlserver.database.windows.net\")\n",
    "    .option(\"user\", \"adminuser\")\n",
    "    .option(\"password\", \"Password12345!\")\n",
    "    .option(\"database\", \"satcseguroimoveisdatabase\")\n",
    "    .option(\"dbtable\", f\"dbo.{table}\")\n",
    "    .load())\n",
    "    remote_table.write.parquet(f\"/mnt/{storageAccountName}/landing-zone/{table}\")"
   ]
  },
  {
   "cell_type": "markdown",
   "metadata": {
    "application/vnd.databricks.v1+cell": {
     "cellMetadata": {},
     "inputWidgets": {},
     "nuid": "ac73a338-74c6-4915-b8fd-d966f0561a39",
     "showTitle": false,
     "title": ""
    }
   },
   "source": [
    "### Lendo os dados gravados"
   ]
  },
  {
   "cell_type": "code",
   "execution_count": null,
   "metadata": {
    "application/vnd.databricks.v1+cell": {
     "cellMetadata": {
      "byteLimit": 2048000,
      "rowLimit": 10000
     },
     "inputWidgets": {},
     "nuid": "4f729fc1-ddf8-4735-be06-e97297620715",
     "showTitle": false,
     "title": ""
    }
   },
   "outputs": [
    {
     "data": {
      "text/html": [
       "<style scoped>\n",
       "  .table-result-container {\n",
       "    max-height: 300px;\n",
       "    overflow: auto;\n",
       "  }\n",
       "  table, th, td {\n",
       "    border: 1px solid black;\n",
       "    border-collapse: collapse;\n",
       "  }\n",
       "  th, td {\n",
       "    padding: 5px;\n",
       "  }\n",
       "  th {\n",
       "    text-align: left;\n",
       "  }\n",
       "</style><div class='table-result-container'><table class='table-result'><thead style='background-color: white'><tr><th>id_cliente</th><th>nome</th><th>dt_nasc</th><th>endereco</th><th>telefone</th><th>email</th></tr></thead><tbody><tr><td>1</td><td>Dr. Rhavi Barbosa</td><td>1992-01-19</td><td>Rodovia de Melo, 74\n",
       "São João Batista\n",
       "73347810 Albuquerque / SP</td><td>+55 41 5800 2366</td><td>dr.rhavibarbosa@ramos.org</td></tr><tr><td>2</td><td>Evelyn Sá</td><td>1986-08-09</td><td>Setor Ravi Lucca da Cruz, 94\n",
       "Universo\n",
       "77341-234 da Rocha / ES</td><td>+55 31 9959-5996</td><td>evelynsá@melo.com</td></tr><tr><td>3</td><td>Sra. Maysa Barros</td><td>1950-03-25</td><td>Passarela Vasconcelos, 2\n",
       "Baleia\n",
       "89363-682 Pereira Grande / PB</td><td>+55 (011) 7038-6784</td><td>sra.maysabarros@oliveira.br</td></tr><tr><td>4</td><td>Maria Flor Barros</td><td>1966-08-19</td><td>Praça de Rodrigues\n",
       "Engenho Nogueira\n",
       "32402-855 Nogueira Grande / PI</td><td>51 2645 3083</td><td>mariaflorbarros@garcia.br</td></tr><tr><td>5</td><td>Maria Vitória Silva</td><td>1936-04-09</td><td>Residencial de Peixoto, 85\n",
       "Pousada Santo Antonio\n",
       "27512848 Azevedo de Fonseca / MA</td><td>+55 (071) 7619-7010</td><td>mariavitóriasilva@andrade.com</td></tr><tr><td>6</td><td>Lorenzo das Neves</td><td>1990-08-13</td><td>Colônia Luiza Camargo, 53\n",
       "Vila Puc\n",
       "37660488 da Cruz / MG</td><td>+55 21 4755-3430</td><td>lorenzodasneves@silveira.net</td></tr><tr><td>7</td><td>Mathias Pastor</td><td>1948-02-12</td><td>Travessa de Ramos, 29\n",
       "São Gabriel\n",
       "53620835 Nascimento / RR</td><td>61 3031 8052</td><td>mathiaspastor@moura.br</td></tr><tr><td>8</td><td>Ísis Cavalcanti</td><td>1996-02-26</td><td>Conjunto da Conceição, 943\n",
       "Petropolis\n",
       "62202-846 Almeida / AM</td><td>+55 (031) 3385 4717</td><td>ísiscavalcanti@cunha.net</td></tr><tr><td>9</td><td>Stephany Teixeira</td><td>1971-03-03</td><td>Área Gabrielly Borges, 364\n",
       "Novo Tupi\n",
       "12477804 Machado / ES</td><td>41 4006 4118</td><td>stephanyteixeira@fogaca.net</td></tr><tr><td>10</td><td>Rodrigo Santos</td><td>1960-10-25</td><td>Feira Campos, 309\n",
       "Vale Do Jatoba\n",
       "42918-956 Marques / RJ</td><td>71 7236 4394</td><td>rodrigosantos@sousa.br</td></tr><tr><td>11</td><td>Anthony Ferreira</td><td>1961-11-15</td><td>Pátio da Luz, 99\n",
       "São Jorge 1ª Seção\n",
       "16957001 Viana / PI</td><td>+55 (031) 0249 6630</td><td>anthonyferreira@camargo.org</td></tr><tr><td>12</td><td>José da Mata</td><td>1960-05-31</td><td>Chácara de Aparecida\n",
       "Vila Sesc\n",
       "48113-404 Silveira / CE</td><td>0800-303-9120</td><td>josédamata@costela.net</td></tr><tr><td>13</td><td>Aurora Sampaio</td><td>1943-09-05</td><td>Viaduto de Azevedo, 38\n",
       "Santa Rita\n",
       "86018-574 Martins / SC</td><td>+55 21 4672 7413</td><td>aurorasampaio@da.br</td></tr><tr><td>14</td><td>Maitê Casa Grande</td><td>1915-08-26</td><td>Chácara de Abreu, 5\n",
       "Conjunto Paulo Vi\n",
       "81338-195 Jesus / MA</td><td>+55 (021) 9252 5186</td><td>maitêcasagrande@aragao.com</td></tr><tr><td>15</td><td>Henry Gabriel Dias</td><td>1954-03-24</td><td>Ladeira Andrade\n",
       "Canadá\n",
       "94161-074 Vieira de Correia / PR</td><td>(011) 2859 0150</td><td>henrygabrieldias@alves.br</td></tr><tr><td>16</td><td>Valentina Moraes</td><td>1985-08-17</td><td>Parque de Camargo, 84\n",
       "Caiçara - Adelaide\n",
       "95783899 Albuquerque do Galho / CE</td><td>+55 (041) 3359-8051</td><td>valentinamoraes@pimenta.org</td></tr><tr><td>17</td><td>Isaque Monteiro</td><td>1983-12-03</td><td>Vale Mateus da Cunha, 236\n",
       "Maravilha\n",
       "78789563 da Luz de Borges / MG</td><td>+55 84 4496 1308</td><td>isaquemonteiro@castro.br</td></tr><tr><td>18</td><td>Carolina Lopes</td><td>1970-02-10</td><td>Estação da Luz, 7\n",
       "Castelo\n",
       "95635763 Sousa / MA</td><td>+55 51 4959 5960</td><td>carolinalopes@alves.com</td></tr><tr><td>19</td><td>Emanuelly da Costa</td><td>1944-01-14</td><td>Avenida Rios, 35\n",
       "Nossa Senhora Da Aparecida\n",
       "46789110 Monteiro / SP</td><td>(021) 4579 5176</td><td>emanuellydacosta@cassiano.com</td></tr><tr><td>20</td><td>Luiz Gustavo da Costa</td><td>2000-04-25</td><td>Trevo Alves\n",
       "Garças\n",
       "88401661 Moreira / SE</td><td>11 3227-0569</td><td>luizgustavodacosta@pereira.com</td></tr><tr><td>21</td><td>Caroline Monteiro</td><td>1947-08-13</td><td>Vale de Farias, 8\n",
       "João Pinheiro\n",
       "90504032 Fonseca de Novaes / PA</td><td>(084) 9753-0318</td><td>carolinemonteiro@mendonca.br</td></tr><tr><td>22</td><td>Dra. Ísis da Mata</td><td>1983-01-25</td><td>Ladeira Nascimento\n",
       "Jardim Vitoria\n",
       "45635941 Novaes de Barbosa / SC</td><td>(041) 8409 3572</td><td>dra.ísisdamata@siqueira.net</td></tr><tr><td>23</td><td>Marcela Costela</td><td>1987-10-24</td><td>Avenida Ana Laura Monteiro, 4\n",
       "Camponesa 2ª Seção\n",
       "59760863 Caldeira dos Dourados / ES</td><td>+55 (031) 9714 2564</td><td>marcelacostela@souza.br</td></tr><tr><td>24</td><td>Ana Beatriz Rezende</td><td>1966-07-17</td><td>Quadra de Alves\n",
       "Vila Mangueiras\n",
       "70178645 Pimenta do Campo / RS</td><td>71 1482 5648</td><td>anabeatrizrezende@freitas.org</td></tr><tr><td>25</td><td>Laura Rocha</td><td>1969-11-14</td><td>Pátio Nascimento\n",
       "Itapoa\n",
       "41023775 Farias / ES</td><td>31 1076 0998</td><td>laurarocha@farias.br</td></tr><tr><td>26</td><td>Vitor Caldeira</td><td>1941-08-03</td><td>Rodovia Marcos Vinicius Borges\n",
       "Lourdes\n",
       "77825039 Garcia / AL</td><td>+55 (061) 1324-2401</td><td>vitorcaldeira@porto.com</td></tr><tr><td>27</td><td>Arthur Rezende</td><td>1923-04-26</td><td>Distrito de Novaes\n",
       "Conjunto Providencia\n",
       "37281893 Carvalho / SC</td><td>(051) 4654-4897</td><td>arthurrezende@monteiro.br</td></tr><tr><td>28</td><td>Davi Miguel Nogueira</td><td>1956-03-05</td><td>Parque de Almeida, 19\n",
       "Ermelinda\n",
       "70794499 Caldeira do Campo / RS</td><td>+55 (011) 4791-4240</td><td>davimiguelnogueira@marques.net</td></tr><tr><td>29</td><td>Lucas Gabriel Costa</td><td>1939-06-02</td><td>Recanto da Rocha, 5\n",
       "Marçola\n",
       "64995-895 Montenegro / AP</td><td>41 0488 1645</td><td>lucasgabrielcosta@da.net</td></tr><tr><td>30</td><td>João Gabriel Vieira</td><td>1950-03-21</td><td>Trecho Lucca Costela, 11\n",
       "Dona Clara\n",
       "41944-817 Araújo / TO</td><td>31 9839-1307</td><td>joãogabrielvieira@goncalves.br</td></tr><tr><td>31</td><td>Nathan Oliveira</td><td>1927-01-31</td><td>Via de Gomes, 21\n",
       "Conjunto Paulo Vi\n",
       "55122573 Abreu / RR</td><td>(031) 9123-3714</td><td>nathanoliveira@ferreira.br</td></tr><tr><td>32</td><td>Sra. Beatriz Costa</td><td>1946-07-18</td><td>Setor Pimenta, 317\n",
       "Laranjeiras\n",
       "37533669 Siqueira de Mendonça / MA</td><td>81 6917-1677</td><td>sra.beatrizcosta@cunha.net</td></tr><tr><td>33</td><td>Theodoro Moreira</td><td>1948-01-10</td><td>Viaduto Santos, 58\n",
       "São Geraldo\n",
       "00000-423 da Luz da Praia / RJ</td><td>+55 (051) 9898 5608</td><td>theodoromoreira@duarte.org</td></tr><tr><td>34</td><td>Dr. Bryan Silveira</td><td>1978-09-15</td><td>Lagoa Fernando da Cunha, 9\n",
       "Cenaculo\n",
       "20139-835 Vasconcelos da Prata / BA</td><td>+55 (081) 6906 5505</td><td>dr.bryansilveira@sampaio.com</td></tr><tr><td>35</td><td>Ana Julia Araújo</td><td>1944-04-30</td><td>Trevo de da Mota, 44\n",
       "Havaí\n",
       "64939966 Vasconcelos da Praia / MS</td><td>+55 84 1784-2369</td><td>anajuliaaraújo@costa.com</td></tr><tr><td>36</td><td>Isadora Correia</td><td>1987-11-12</td><td>Distrito de Almeida, 14\n",
       "Grotinha\n",
       "53774-024 Siqueira da Praia / RO</td><td>(041) 8319 5496</td><td>isadoracorreia@cassiano.net</td></tr><tr><td>37</td><td>Davi Miguel Fogaça</td><td>1961-10-10</td><td>Quadra de Sousa, 107\n",
       "Urca\n",
       "96796637 Sá Grande / PR</td><td>0900-545-9812</td><td>davimiguelfogaça@da.org</td></tr><tr><td>38</td><td>Lorena Duarte</td><td>1932-02-05</td><td>Morro Sales, 66\n",
       "Milionario\n",
       "76540545 Alves de Jesus / BA</td><td>(051) 6224-6014</td><td>lorenaduarte@borges.com</td></tr><tr><td>39</td><td>João Vitor da Luz</td><td>1909-07-09</td><td>Viaduto Rodrigo Sousa, 3\n",
       "Vila Do Pombal\n",
       "40878-340 Guerra de Sampaio / RR</td><td>+55 (081) 1938 5534</td><td>joãovitordaluz@correia.com</td></tr><tr><td>40</td><td>Luiza Sampaio</td><td>1963-11-08</td><td>Praia de Brito, 2\n",
       "Flavio Marques Lisboa\n",
       "78676-132 da Cruz do Sul / PI</td><td>21 6899-2073</td><td>luizasampaio@das.org</td></tr><tr><td>41</td><td>Mariah da Conceição</td><td>1996-04-30</td><td>Campo Rios, 61\n",
       "Venda Nova\n",
       "18096588 Vasconcelos da Serra / MS</td><td>(031) 2497-5519</td><td>mariahdaconceição@sousa.br</td></tr><tr><td>42</td><td>Nicole Sousa</td><td>1910-09-05</td><td>Rua Campos\n",
       "Alta Tensão 2ª Seção\n",
       "01351-899 Silva / RO</td><td>41 6217-7620</td><td>nicolesousa@almeida.com</td></tr><tr><td>43</td><td>Ana Liz Costa</td><td>1985-08-13</td><td>Praia de Souza, 3\n",
       "Vila Engenho Nogueira\n",
       "13290-377 Aragão dos Dourados / PE</td><td>+55 (041) 0084-2971</td><td>analizcosta@novais.com</td></tr><tr><td>44</td><td>Benjamim da Cunha</td><td>1997-09-28</td><td>Morro Ramos, 66\n",
       "Santa Branca\n",
       "03100245 Rocha Grande / AP</td><td>+55 71 0090 3088</td><td>benjamimdacunha@pinto.com</td></tr><tr><td>45</td><td>Mathias Jesus</td><td>1963-04-28</td><td>Parque Aparecida, 73\n",
       "Pantanal\n",
       "19411-459 Correia Grande / PE</td><td>0900-406-8251</td><td>mathiasjesus@castro.br</td></tr><tr><td>46</td><td>Benicio Montenegro</td><td>1931-08-11</td><td>Esplanada Dias, 10\n",
       "Vila Nova Paraíso\n",
       "87361099 Duarte Grande / ES</td><td>+55 (041) 4750 1442</td><td>beniciomontenegro@costa.org</td></tr><tr><td>47</td><td>Sr. Caio da Mota</td><td>1922-02-20</td><td>Esplanada Pacheco, 7\n",
       "Vila Independencia 2ª Seção\n",
       "54461-924 Souza / SP</td><td>+55 84 3703-1384</td><td>sr.caiodamota@cavalcante.net</td></tr><tr><td>48</td><td>Sr. Davi Luiz Ferreira</td><td>1981-05-15</td><td>Alameda da Costa, 62\n",
       "Vila Pinho\n",
       "98235-948 Pires / SC</td><td>+55 (021) 7170-5036</td><td>sr.daviluizferreira@macedo.net</td></tr><tr><td>49</td><td>Maria Clara Jesus</td><td>1952-04-25</td><td>Aeroporto de Camargo, 293\n",
       "Mariquinhas\n",
       "72802457 Rezende / RN</td><td>(051) 7224-3270</td><td>mariaclarajesus@camara.net</td></tr><tr><td>50</td><td>Helena Mendes</td><td>1970-12-05</td><td>Vila da Cruz\n",
       "Jardim Atlântico\n",
       "07742119 Andrade do Norte / RS</td><td>11 9710 1980</td><td>helenamendes@silveira.br</td></tr></tbody></table></div>"
      ]
     },
     "metadata": {
      "application/vnd.databricks.v1+output": {
       "addedWidgets": {},
       "aggData": [],
       "aggError": "",
       "aggOverflow": false,
       "aggSchema": [],
       "aggSeriesLimitReached": false,
       "aggType": "",
       "arguments": {},
       "columnCustomDisplayInfos": {},
       "data": [
        [
         1,
         "Dr. Rhavi Barbosa",
         "1992-01-19",
         "Rodovia de Melo, 74\nSão João Batista\n73347810 Albuquerque / SP",
         "+55 41 5800 2366",
         "dr.rhavibarbosa@ramos.org"
        ],
        [
         2,
         "Evelyn Sá",
         "1986-08-09",
         "Setor Ravi Lucca da Cruz, 94\nUniverso\n77341-234 da Rocha / ES",
         "+55 31 9959-5996",
         "evelynsá@melo.com"
        ],
        [
         3,
         "Sra. Maysa Barros",
         "1950-03-25",
         "Passarela Vasconcelos, 2\nBaleia\n89363-682 Pereira Grande / PB",
         "+55 (011) 7038-6784",
         "sra.maysabarros@oliveira.br"
        ],
        [
         4,
         "Maria Flor Barros",
         "1966-08-19",
         "Praça de Rodrigues\nEngenho Nogueira\n32402-855 Nogueira Grande / PI",
         "51 2645 3083",
         "mariaflorbarros@garcia.br"
        ],
        [
         5,
         "Maria Vitória Silva",
         "1936-04-09",
         "Residencial de Peixoto, 85\nPousada Santo Antonio\n27512848 Azevedo de Fonseca / MA",
         "+55 (071) 7619-7010",
         "mariavitóriasilva@andrade.com"
        ],
        [
         6,
         "Lorenzo das Neves",
         "1990-08-13",
         "Colônia Luiza Camargo, 53\nVila Puc\n37660488 da Cruz / MG",
         "+55 21 4755-3430",
         "lorenzodasneves@silveira.net"
        ],
        [
         7,
         "Mathias Pastor",
         "1948-02-12",
         "Travessa de Ramos, 29\nSão Gabriel\n53620835 Nascimento / RR",
         "61 3031 8052",
         "mathiaspastor@moura.br"
        ],
        [
         8,
         "Ísis Cavalcanti",
         "1996-02-26",
         "Conjunto da Conceição, 943\nPetropolis\n62202-846 Almeida / AM",
         "+55 (031) 3385 4717",
         "ísiscavalcanti@cunha.net"
        ],
        [
         9,
         "Stephany Teixeira",
         "1971-03-03",
         "Área Gabrielly Borges, 364\nNovo Tupi\n12477804 Machado / ES",
         "41 4006 4118",
         "stephanyteixeira@fogaca.net"
        ],
        [
         10,
         "Rodrigo Santos",
         "1960-10-25",
         "Feira Campos, 309\nVale Do Jatoba\n42918-956 Marques / RJ",
         "71 7236 4394",
         "rodrigosantos@sousa.br"
        ],
        [
         11,
         "Anthony Ferreira",
         "1961-11-15",
         "Pátio da Luz, 99\nSão Jorge 1ª Seção\n16957001 Viana / PI",
         "+55 (031) 0249 6630",
         "anthonyferreira@camargo.org"
        ],
        [
         12,
         "José da Mata",
         "1960-05-31",
         "Chácara de Aparecida\nVila Sesc\n48113-404 Silveira / CE",
         "0800-303-9120",
         "josédamata@costela.net"
        ],
        [
         13,
         "Aurora Sampaio",
         "1943-09-05",
         "Viaduto de Azevedo, 38\nSanta Rita\n86018-574 Martins / SC",
         "+55 21 4672 7413",
         "aurorasampaio@da.br"
        ],
        [
         14,
         "Maitê Casa Grande",
         "1915-08-26",
         "Chácara de Abreu, 5\nConjunto Paulo Vi\n81338-195 Jesus / MA",
         "+55 (021) 9252 5186",
         "maitêcasagrande@aragao.com"
        ],
        [
         15,
         "Henry Gabriel Dias",
         "1954-03-24",
         "Ladeira Andrade\nCanadá\n94161-074 Vieira de Correia / PR",
         "(011) 2859 0150",
         "henrygabrieldias@alves.br"
        ],
        [
         16,
         "Valentina Moraes",
         "1985-08-17",
         "Parque de Camargo, 84\nCaiçara - Adelaide\n95783899 Albuquerque do Galho / CE",
         "+55 (041) 3359-8051",
         "valentinamoraes@pimenta.org"
        ],
        [
         17,
         "Isaque Monteiro",
         "1983-12-03",
         "Vale Mateus da Cunha, 236\nMaravilha\n78789563 da Luz de Borges / MG",
         "+55 84 4496 1308",
         "isaquemonteiro@castro.br"
        ],
        [
         18,
         "Carolina Lopes",
         "1970-02-10",
         "Estação da Luz, 7\nCastelo\n95635763 Sousa / MA",
         "+55 51 4959 5960",
         "carolinalopes@alves.com"
        ],
        [
         19,
         "Emanuelly da Costa",
         "1944-01-14",
         "Avenida Rios, 35\nNossa Senhora Da Aparecida\n46789110 Monteiro / SP",
         "(021) 4579 5176",
         "emanuellydacosta@cassiano.com"
        ],
        [
         20,
         "Luiz Gustavo da Costa",
         "2000-04-25",
         "Trevo Alves\nGarças\n88401661 Moreira / SE",
         "11 3227-0569",
         "luizgustavodacosta@pereira.com"
        ],
        [
         21,
         "Caroline Monteiro",
         "1947-08-13",
         "Vale de Farias, 8\nJoão Pinheiro\n90504032 Fonseca de Novaes / PA",
         "(084) 9753-0318",
         "carolinemonteiro@mendonca.br"
        ],
        [
         22,
         "Dra. Ísis da Mata",
         "1983-01-25",
         "Ladeira Nascimento\nJardim Vitoria\n45635941 Novaes de Barbosa / SC",
         "(041) 8409 3572",
         "dra.ísisdamata@siqueira.net"
        ],
        [
         23,
         "Marcela Costela",
         "1987-10-24",
         "Avenida Ana Laura Monteiro, 4\nCamponesa 2ª Seção\n59760863 Caldeira dos Dourados / ES",
         "+55 (031) 9714 2564",
         "marcelacostela@souza.br"
        ],
        [
         24,
         "Ana Beatriz Rezende",
         "1966-07-17",
         "Quadra de Alves\nVila Mangueiras\n70178645 Pimenta do Campo / RS",
         "71 1482 5648",
         "anabeatrizrezende@freitas.org"
        ],
        [
         25,
         "Laura Rocha",
         "1969-11-14",
         "Pátio Nascimento\nItapoa\n41023775 Farias / ES",
         "31 1076 0998",
         "laurarocha@farias.br"
        ],
        [
         26,
         "Vitor Caldeira",
         "1941-08-03",
         "Rodovia Marcos Vinicius Borges\nLourdes\n77825039 Garcia / AL",
         "+55 (061) 1324-2401",
         "vitorcaldeira@porto.com"
        ],
        [
         27,
         "Arthur Rezende",
         "1923-04-26",
         "Distrito de Novaes\nConjunto Providencia\n37281893 Carvalho / SC",
         "(051) 4654-4897",
         "arthurrezende@monteiro.br"
        ],
        [
         28,
         "Davi Miguel Nogueira",
         "1956-03-05",
         "Parque de Almeida, 19\nErmelinda\n70794499 Caldeira do Campo / RS",
         "+55 (011) 4791-4240",
         "davimiguelnogueira@marques.net"
        ],
        [
         29,
         "Lucas Gabriel Costa",
         "1939-06-02",
         "Recanto da Rocha, 5\nMarçola\n64995-895 Montenegro / AP",
         "41 0488 1645",
         "lucasgabrielcosta@da.net"
        ],
        [
         30,
         "João Gabriel Vieira",
         "1950-03-21",
         "Trecho Lucca Costela, 11\nDona Clara\n41944-817 Araújo / TO",
         "31 9839-1307",
         "joãogabrielvieira@goncalves.br"
        ],
        [
         31,
         "Nathan Oliveira",
         "1927-01-31",
         "Via de Gomes, 21\nConjunto Paulo Vi\n55122573 Abreu / RR",
         "(031) 9123-3714",
         "nathanoliveira@ferreira.br"
        ],
        [
         32,
         "Sra. Beatriz Costa",
         "1946-07-18",
         "Setor Pimenta, 317\nLaranjeiras\n37533669 Siqueira de Mendonça / MA",
         "81 6917-1677",
         "sra.beatrizcosta@cunha.net"
        ],
        [
         33,
         "Theodoro Moreira",
         "1948-01-10",
         "Viaduto Santos, 58\nSão Geraldo\n00000-423 da Luz da Praia / RJ",
         "+55 (051) 9898 5608",
         "theodoromoreira@duarte.org"
        ],
        [
         34,
         "Dr. Bryan Silveira",
         "1978-09-15",
         "Lagoa Fernando da Cunha, 9\nCenaculo\n20139-835 Vasconcelos da Prata / BA",
         "+55 (081) 6906 5505",
         "dr.bryansilveira@sampaio.com"
        ],
        [
         35,
         "Ana Julia Araújo",
         "1944-04-30",
         "Trevo de da Mota, 44\nHavaí\n64939966 Vasconcelos da Praia / MS",
         "+55 84 1784-2369",
         "anajuliaaraújo@costa.com"
        ],
        [
         36,
         "Isadora Correia",
         "1987-11-12",
         "Distrito de Almeida, 14\nGrotinha\n53774-024 Siqueira da Praia / RO",
         "(041) 8319 5496",
         "isadoracorreia@cassiano.net"
        ],
        [
         37,
         "Davi Miguel Fogaça",
         "1961-10-10",
         "Quadra de Sousa, 107\nUrca\n96796637 Sá Grande / PR",
         "0900-545-9812",
         "davimiguelfogaça@da.org"
        ],
        [
         38,
         "Lorena Duarte",
         "1932-02-05",
         "Morro Sales, 66\nMilionario\n76540545 Alves de Jesus / BA",
         "(051) 6224-6014",
         "lorenaduarte@borges.com"
        ],
        [
         39,
         "João Vitor da Luz",
         "1909-07-09",
         "Viaduto Rodrigo Sousa, 3\nVila Do Pombal\n40878-340 Guerra de Sampaio / RR",
         "+55 (081) 1938 5534",
         "joãovitordaluz@correia.com"
        ],
        [
         40,
         "Luiza Sampaio",
         "1963-11-08",
         "Praia de Brito, 2\nFlavio Marques Lisboa\n78676-132 da Cruz do Sul / PI",
         "21 6899-2073",
         "luizasampaio@das.org"
        ],
        [
         41,
         "Mariah da Conceição",
         "1996-04-30",
         "Campo Rios, 61\nVenda Nova\n18096588 Vasconcelos da Serra / MS",
         "(031) 2497-5519",
         "mariahdaconceição@sousa.br"
        ],
        [
         42,
         "Nicole Sousa",
         "1910-09-05",
         "Rua Campos\nAlta Tensão 2ª Seção\n01351-899 Silva / RO",
         "41 6217-7620",
         "nicolesousa@almeida.com"
        ],
        [
         43,
         "Ana Liz Costa",
         "1985-08-13",
         "Praia de Souza, 3\nVila Engenho Nogueira\n13290-377 Aragão dos Dourados / PE",
         "+55 (041) 0084-2971",
         "analizcosta@novais.com"
        ],
        [
         44,
         "Benjamim da Cunha",
         "1997-09-28",
         "Morro Ramos, 66\nSanta Branca\n03100245 Rocha Grande / AP",
         "+55 71 0090 3088",
         "benjamimdacunha@pinto.com"
        ],
        [
         45,
         "Mathias Jesus",
         "1963-04-28",
         "Parque Aparecida, 73\nPantanal\n19411-459 Correia Grande / PE",
         "0900-406-8251",
         "mathiasjesus@castro.br"
        ],
        [
         46,
         "Benicio Montenegro",
         "1931-08-11",
         "Esplanada Dias, 10\nVila Nova Paraíso\n87361099 Duarte Grande / ES",
         "+55 (041) 4750 1442",
         "beniciomontenegro@costa.org"
        ],
        [
         47,
         "Sr. Caio da Mota",
         "1922-02-20",
         "Esplanada Pacheco, 7\nVila Independencia 2ª Seção\n54461-924 Souza / SP",
         "+55 84 3703-1384",
         "sr.caiodamota@cavalcante.net"
        ],
        [
         48,
         "Sr. Davi Luiz Ferreira",
         "1981-05-15",
         "Alameda da Costa, 62\nVila Pinho\n98235-948 Pires / SC",
         "+55 (021) 7170-5036",
         "sr.daviluizferreira@macedo.net"
        ],
        [
         49,
         "Maria Clara Jesus",
         "1952-04-25",
         "Aeroporto de Camargo, 293\nMariquinhas\n72802457 Rezende / RN",
         "(051) 7224-3270",
         "mariaclarajesus@camara.net"
        ],
        [
         50,
         "Helena Mendes",
         "1970-12-05",
         "Vila da Cruz\nJardim Atlântico\n07742119 Andrade do Norte / RS",
         "11 9710 1980",
         "helenamendes@silveira.br"
        ]
       ],
       "datasetInfos": [],
       "dbfsResultPath": null,
       "isJsonSchema": true,
       "metadata": {},
       "overflow": false,
       "plotOptions": {
        "customPlotOptions": {},
        "displayType": "table",
        "pivotAggregation": null,
        "pivotColumns": null,
        "xColumns": null,
        "yColumns": null
       },
       "removedWidgets": [],
       "schema": [
        {
         "metadata": "{\"isTimestampNTZ\":false,\"signed\":true,\"scale\":0}",
         "name": "id_cliente",
         "type": "\"integer\""
        },
        {
         "metadata": "{\"isTimestampNTZ\":false,\"__CHAR_VARCHAR_TYPE_STRING\":\"varchar(255)\",\"signed\":false,\"scale\":0}",
         "name": "nome",
         "type": "\"string\""
        },
        {
         "metadata": "{\"isTimestampNTZ\":false,\"signed\":false,\"scale\":0}",
         "name": "dt_nasc",
         "type": "\"date\""
        },
        {
         "metadata": "{\"isTimestampNTZ\":false,\"__CHAR_VARCHAR_TYPE_STRING\":\"varchar(255)\",\"signed\":false,\"scale\":0}",
         "name": "endereco",
         "type": "\"string\""
        },
        {
         "metadata": "{\"isTimestampNTZ\":false,\"__CHAR_VARCHAR_TYPE_STRING\":\"varchar(255)\",\"signed\":false,\"scale\":0}",
         "name": "telefone",
         "type": "\"string\""
        },
        {
         "metadata": "{\"isTimestampNTZ\":false,\"__CHAR_VARCHAR_TYPE_STRING\":\"varchar(255)\",\"signed\":false,\"scale\":0}",
         "name": "email",
         "type": "\"string\""
        }
       ],
       "type": "table"
      }
     },
     "output_type": "display_data"
    }
   ],
   "source": [
    "# Lendo a tabela 'cliente' do ponto de montagem 'landing-zone'\n",
    "cliente_df = spark.read.parquet(f\"/mnt/satcseguroimoveis/landing-zone/cliente\")\n",
    "\n",
    "# Exibindo 50 resultados\n",
    "display(cliente_df.limit(50))"
   ]
  }
 ],
 "metadata": {
  "application/vnd.databricks.v1+notebook": {
   "dashboards": [],
   "environmentMetadata": null,
   "language": "python",
   "notebookMetadata": {
    "mostRecentlyExecutedCommandWithImplicitDF": {
     "commandId": 1612067014555546,
     "dataframes": [
      "_sqldf"
     ]
    },
    "pythonIndentUnit": 4
   },
   "notebookName": "landing-zone",
   "widgets": {}
  },
  "language_info": {
   "name": "python"
  }
 },
 "nbformat": 4,
 "nbformat_minor": 0
}
