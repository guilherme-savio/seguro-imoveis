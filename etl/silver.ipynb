{
 "cells": [
  {
   "cell_type": "markdown",
   "metadata": {},
   "source": [
    "### Declaração das funções de transformação"
   ]
  },
  {
   "cell_type": "code",
   "execution_count": null,
   "metadata": {
    "application/vnd.databricks.v1+cell": {
     "cellMetadata": {
      "byteLimit": 2048000,
      "rowLimit": 10000
     },
     "inputWidgets": {},
     "nuid": "714f77b9-9d69-4a37-bfaa-30bae76e548a",
     "showTitle": false,
     "title": ""
    }
   },
   "outputs": [],
   "source": [
    "from pyspark.sql.functions import col, regexp_replace, lit, current_timestamp\n",
    "\n",
    "storageAccountName = \"satcseguroimoveis\"\n",
    "\n",
    "\n",
    "def salvar_silver(df_silver, tabela): \n",
    "    df_silver.write \\\n",
    "        .format(\"delta\") \\\n",
    "        .mode(\"overwrite\") \\\n",
    "        .save(f\"/mnt/{storageAccountName}/silver/{tabela}\")\n",
    "\n",
    "\n",
    "def renomear_colunas(df, tabela):\n",
    "    # Renomeando todas as colunas para letras maiúsculas e transformando ID_ em CODIGO_ e DT_ em DATA_\n",
    "    for coluna in df.columns:\n",
    "        col_format = coluna.upper()\n",
    "        col_format = col_format.replace(\"ID_\", \"CODIGO_\")\n",
    "        col_format = col_format.replace(\"DT_\", \"DATA_\")\n",
    "\n",
    "        df = df.withColumnRenamed(coluna, col_format)\n",
    "    df = df.drop(\"DATA_INSERT_BRONZE\")\n",
    "    df = df.drop(\"FILENAME\")\n",
    "    df = df.withColumn(\"FILENAME_BRONZE\", lit(tabela))\n",
    "    df = df.withColumn(\"DATA_INSERT_SILVER\", current_timestamp())\n",
    "    return df\n",
    "\n",
    "\n",
    "def transformar_cliente():\n",
    "    df_cliente = spark.read.format(\"delta\").load(f\"/mnt/{storageAccountName}/bronze/cliente\")\n",
    "\n",
    "    # Transformação de cliente precisa manter apenas os 10 últimos números da coluna telefone e transformar dt_nasc em data_nascimento\n",
    "    df_cliente = df_cliente.withColumn(\"telefone\", regexp_replace(\"telefone\", \"[^0-9]\", \"\"))\n",
    "    df_cliente = df_cliente.withColumn(\"telefone\", col(\"telefone\").substr(-10, 10))\n",
    "    df_cliente = df_cliente.withColumnRenamed(\"dt_nasc\", \"data_nascimento\")\n",
    "\n",
    "    df = renomear_colunas(df_cliente, \"cliente\")\n",
    "\n",
    "    salvar_silver(df, \"cliente\")\n",
    "\n",
    "\n",
    "def transformar(tabela):\n",
    "    df_bronze = spark.read.format(\"delta\").load(f\"/mnt/{storageAccountName}/bronze/{tabela}\")\n",
    "    \n",
    "    df = renomear_colunas(df_bronze, tabela)\n",
    "    \n",
    "    salvar_silver(df, tabela)\n"
   ]
  },
  {
   "cell_type": "markdown",
   "metadata": {},
   "source": [
    "### Lendo as tabelas delta do container bronze, manipulando os dados e salvando no container silver"
   ]
  },
  {
   "cell_type": "code",
   "execution_count": null,
   "metadata": {
    "application/vnd.databricks.v1+cell": {
     "cellMetadata": {
      "byteLimit": 2048000,
      "rowLimit": 10000
     },
     "inputWidgets": {},
     "nuid": "28903b1f-4218-4363-895e-e042c34943f5",
     "showTitle": false,
     "title": ""
    }
   },
   "outputs": [
    {
     "name": "stdout",
     "output_type": "stream",
     "text": [
      "Transformação da tabela: apolice_cobertura finalizada.\n",
      "Transformação da tabela: cobertura finalizada.\n",
      "Transformação da tabela: sinistro finalizada.\n",
      "Transformação da tabela: pagamento finalizada.\n",
      "Transformação da tabela: apolice finalizada.\n",
      "Transformação da tabela: avaliacao finalizada.\n",
      "Transformação da tabela: imovel finalizada.\n",
      "Transformação da tabela: cliente finalizada.\n"
     ]
    }
   ],
   "source": [
    "tables = [\"apolice_cobertura\", \"cobertura\", \"sinistro\", \"pagamento\", \"apolice\", \"avaliacao\", \"imovel\", \"cliente\"]\n",
    "\n",
    "for table in tables:\n",
    "    if table == \"cliente\":\n",
    "        transformar_cliente()\n",
    "    else:\n",
    "        transformar(table)\n",
    "\n",
    "    print(f\"Transformação da tabela: {table} finalizada.\")"
   ]
  },
  {
   "cell_type": "markdown",
   "metadata": {},
   "source": [
    "### Lendo os dados gravados"
   ]
  },
  {
   "cell_type": "code",
   "execution_count": null,
   "metadata": {
    "application/vnd.databricks.v1+cell": {
     "cellMetadata": {
      "byteLimit": 2048000,
      "rowLimit": 10000
     },
     "inputWidgets": {},
     "nuid": "b4c0eab3-0457-4bc5-8685-311567e8fb2f",
     "showTitle": false,
     "title": ""
    }
   },
   "outputs": [
    {
     "name": "stdout",
     "output_type": "stream",
     "text": [
      "+--------------+----------------+-----------------+--------------------+\n",
      "|CODIGO_APOLICE|CODIGO_COBERTURA|  FILENAME_BRONZE|  DATA_INSERT_SILVER|\n",
      "+--------------+----------------+-----------------+--------------------+\n",
      "|             1|               5|apolice_cobertura|2024-06-27 03:11:...|\n",
      "|             1|              10|apolice_cobertura|2024-06-27 03:11:...|\n",
      "|             1|               6|apolice_cobertura|2024-06-27 03:11:...|\n",
      "|             2|               1|apolice_cobertura|2024-06-27 03:11:...|\n",
      "|             2|               9|apolice_cobertura|2024-06-27 03:11:...|\n",
      "|             2|               3|apolice_cobertura|2024-06-27 03:11:...|\n",
      "|             2|               8|apolice_cobertura|2024-06-27 03:11:...|\n",
      "|             3|               5|apolice_cobertura|2024-06-27 03:11:...|\n",
      "|             3|              10|apolice_cobertura|2024-06-27 03:11:...|\n",
      "|             3|               1|apolice_cobertura|2024-06-27 03:11:...|\n",
      "|             3|               7|apolice_cobertura|2024-06-27 03:11:...|\n",
      "|             4|               6|apolice_cobertura|2024-06-27 03:11:...|\n",
      "|             5|               2|apolice_cobertura|2024-06-27 03:11:...|\n",
      "|             5|               9|apolice_cobertura|2024-06-27 03:11:...|\n",
      "|             5|               1|apolice_cobertura|2024-06-27 03:11:...|\n",
      "+--------------+----------------+-----------------+--------------------+\n",
      "only showing top 15 rows\n",
      "\n"
     ]
    }
   ],
   "source": [
    "df_apolice = spark.read.format(\"delta\").load(\"/mnt/satcseguroimoveis/silver/apolice_cobertura\")\n",
    "df_apolice.show(15)"
   ]
  }
 ],
 "metadata": {
  "application/vnd.databricks.v1+notebook": {
   "dashboards": [],
   "environmentMetadata": null,
   "language": "python",
   "notebookMetadata": {
    "pythonIndentUnit": 4
   },
   "notebookName": "silver",
   "widgets": {}
  },
  "language_info": {
   "name": "python"
  }
 },
 "nbformat": 4,
 "nbformat_minor": 0
}
