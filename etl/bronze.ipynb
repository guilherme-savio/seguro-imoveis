{
 "cells": [
  {
   "cell_type": "markdown",
   "metadata": {
    "application/vnd.databricks.v1+cell": {
     "cellMetadata": {},
     "inputWidgets": {},
     "nuid": "cbd7643c-6a92-4604-a56c-886676775ae6",
     "showTitle": false,
     "title": ""
    }
   },
   "source": [
    "### Lendo dados da camada landing-zone e salvando no formato Delta na camada bronze "
   ]
  },
  {
   "cell_type": "code",
   "execution_count": 0,
   "metadata": {
    "application/vnd.databricks.v1+cell": {
     "cellMetadata": {
      "byteLimit": 2048000,
      "rowLimit": 10000
     },
     "inputWidgets": {},
     "nuid": "f918da04-21f8-42c4-8a1f-5f7516d84c6a",
     "showTitle": false,
     "title": ""
    }
   },
   "outputs": [],
   "source": [
    "from pyspark.sql.functions import current_timestamp, lit\n",
    "\n",
    "storageAccountName = \"satcseguroimoveis\"\n",
    "tables = [\"apolice_cobertura\", \"cobertura\", \"sinistro\", \"pagamento\", \"apolice\", \"avaliacao\", \"imovel\", \"cliente\"]\n",
    "\n",
    "\n",
    "for table in tables:\n",
    "    remote_table = spark.read.option(\"infeschema\", \"true\").option(\"header\", \"true\").parquet(f\"/mnt/{storageAccountName}/landing-zone/{table}\")\n",
    "    remote_table = remote_table.withColumn(\"dt_insert_bronze\", current_timestamp()).withColumn(\"filename\", lit(table))\n",
    "    remote_table.write.format('delta').save(f\"/mnt/{storageAccountName}/bronze/{table}\")"
   ]
  },
  {
   "cell_type": "markdown",
   "metadata": {
    "application/vnd.databricks.v1+cell": {
     "cellMetadata": {},
     "inputWidgets": {},
     "nuid": "bb4c9542-7304-42c7-bf31-1e936f907361",
     "showTitle": false,
     "title": ""
    }
   },
   "source": [
    "### Verificando se os dados foram salvados corretamente com os metadados"
   ]
  },
  {
   "cell_type": "code",
   "execution_count": 0,
   "metadata": {
    "application/vnd.databricks.v1+cell": {
     "cellMetadata": {
      "byteLimit": 2048000,
      "rowLimit": 10000
     },
     "inputWidgets": {},
     "nuid": "6fc9b553-1354-480e-90ed-956748faca1b",
     "showTitle": false,
     "title": ""
    }
   },
   "outputs": [
    {
     "output_type": "display_data",
     "data": {
      "text/html": [
       "<style scoped>\n",
       "  .table-result-container {\n",
       "    max-height: 300px;\n",
       "    overflow: auto;\n",
       "  }\n",
       "  table, th, td {\n",
       "    border: 1px solid black;\n",
       "    border-collapse: collapse;\n",
       "  }\n",
       "  th, td {\n",
       "    padding: 5px;\n",
       "  }\n",
       "  th {\n",
       "    text-align: left;\n",
       "  }\n",
       "</style><div class='table-result-container'><table class='table-result'><thead style='background-color: white'><tr><th>path</th><th>name</th><th>size</th><th>modificationTime</th></tr></thead><tbody><tr><td>dbfs:/mnt/satcseguroimoveis/bronze/apolice/</td><td>apolice/</td><td>0</td><td>0</td></tr><tr><td>dbfs:/mnt/satcseguroimoveis/bronze/apolice_cobertura/</td><td>apolice_cobertura/</td><td>0</td><td>0</td></tr><tr><td>dbfs:/mnt/satcseguroimoveis/bronze/avaliacao/</td><td>avaliacao/</td><td>0</td><td>0</td></tr><tr><td>dbfs:/mnt/satcseguroimoveis/bronze/cliente/</td><td>cliente/</td><td>0</td><td>0</td></tr><tr><td>dbfs:/mnt/satcseguroimoveis/bronze/cobertura/</td><td>cobertura/</td><td>0</td><td>0</td></tr><tr><td>dbfs:/mnt/satcseguroimoveis/bronze/imovel/</td><td>imovel/</td><td>0</td><td>0</td></tr><tr><td>dbfs:/mnt/satcseguroimoveis/bronze/pagamento/</td><td>pagamento/</td><td>0</td><td>0</td></tr><tr><td>dbfs:/mnt/satcseguroimoveis/bronze/sinistro/</td><td>sinistro/</td><td>0</td><td>0</td></tr></tbody></table></div>"
      ]
     },
     "metadata": {
      "application/vnd.databricks.v1+output": {
       "addedWidgets": {},
       "aggData": [],
       "aggError": "",
       "aggOverflow": false,
       "aggSchema": [],
       "aggSeriesLimitReached": false,
       "aggType": "",
       "arguments": {},
       "columnCustomDisplayInfos": {},
       "data": [
        [
         "dbfs:/mnt/satcseguroimoveis/bronze/apolice/",
         "apolice/",
         0,
         0
        ],
        [
         "dbfs:/mnt/satcseguroimoveis/bronze/apolice_cobertura/",
         "apolice_cobertura/",
         0,
         0
        ],
        [
         "dbfs:/mnt/satcseguroimoveis/bronze/avaliacao/",
         "avaliacao/",
         0,
         0
        ],
        [
         "dbfs:/mnt/satcseguroimoveis/bronze/cliente/",
         "cliente/",
         0,
         0
        ],
        [
         "dbfs:/mnt/satcseguroimoveis/bronze/cobertura/",
         "cobertura/",
         0,
         0
        ],
        [
         "dbfs:/mnt/satcseguroimoveis/bronze/imovel/",
         "imovel/",
         0,
         0
        ],
        [
         "dbfs:/mnt/satcseguroimoveis/bronze/pagamento/",
         "pagamento/",
         0,
         0
        ],
        [
         "dbfs:/mnt/satcseguroimoveis/bronze/sinistro/",
         "sinistro/",
         0,
         0
        ]
       ],
       "datasetInfos": [],
       "dbfsResultPath": null,
       "isJsonSchema": true,
       "metadata": {},
       "overflow": false,
       "plotOptions": {
        "customPlotOptions": {},
        "displayType": "table",
        "pivotAggregation": null,
        "pivotColumns": null,
        "xColumns": null,
        "yColumns": null
       },
       "removedWidgets": [],
       "schema": [
        {
         "metadata": "{}",
         "name": "path",
         "type": "\"string\""
        },
        {
         "metadata": "{}",
         "name": "name",
         "type": "\"string\""
        },
        {
         "metadata": "{}",
         "name": "size",
         "type": "\"long\""
        },
        {
         "metadata": "{}",
         "name": "modificationTime",
         "type": "\"long\""
        }
       ],
       "type": "table"
      }
     },
     "output_type": "display_data"
    }
   ],
   "source": [
    "display(dbutils.fs.ls(f\"/mnt/{storageAccountName}/bronze/\")) "
   ]
  },
  {
   "cell_type": "markdown",
   "metadata": {
    "application/vnd.databricks.v1+cell": {
     "cellMetadata": {},
     "inputWidgets": {},
     "nuid": "03360de3-5d8e-4ffe-8106-d4f12aa42b94",
     "showTitle": false,
     "title": ""
    }
   },
   "source": [
    "### Verificando se a tabela é gerenciada ou não pelo Databricks"
   ]
  },
  {
   "cell_type": "code",
   "execution_count": 0,
   "metadata": {
    "application/vnd.databricks.v1+cell": {
     "cellMetadata": {
      "byteLimit": 2048000,
      "implicitDf": true,
      "rowLimit": 10000
     },
     "inputWidgets": {},
     "nuid": "1eb931ef-a863-4b4b-b721-3a02577066c6",
     "showTitle": false,
     "title": ""
    }
   },
   "outputs": [
    {
     "output_type": "stream",
     "name": "stdout",
     "output_type": "stream",
     "text": [
      "+----------+-------------------+----------+--------------------+-------------------+--------------------+--------------------+--------+\n|id_cliente|               nome|   dt_nasc|            endereco|           telefone|               email|    dt_insert_bronze|filename|\n+----------+-------------------+----------+--------------------+-------------------+--------------------+--------------------+--------+\n|         1|  Dr. Rhavi Barbosa|1992-01-19|Rodovia de Melo, ...|   +55 41 5800 2366|dr.rhavibarbosa@r...|2024-06-27 03:05:...| cliente|\n|         2|          Evelyn Sá|1986-08-09|Setor Ravi Lucca ...|   +55 31 9959-5996|   evelynsá@melo.com|2024-06-27 03:05:...| cliente|\n|         3|  Sra. Maysa Barros|1950-03-25|Passarela Vasconc...|+55 (011) 7038-6784|sra.maysabarros@o...|2024-06-27 03:05:...| cliente|\n|         4|  Maria Flor Barros|1966-08-19|Praça de Rodrigue...|       51 2645 3083|mariaflorbarros@g...|2024-06-27 03:05:...| cliente|\n|         5|Maria Vitória Silva|1936-04-09|Residencial de Pe...|+55 (071) 7619-7010|mariavitóriasilva...|2024-06-27 03:05:...| cliente|\n|         6|  Lorenzo das Neves|1990-08-13|Colônia Luiza Cam...|   +55 21 4755-3430|lorenzodasneves@s...|2024-06-27 03:05:...| cliente|\n|         7|     Mathias Pastor|1948-02-12|Travessa de Ramos...|       61 3031 8052|mathiaspastor@mou...|2024-06-27 03:05:...| cliente|\n|         8|    Ísis Cavalcanti|1996-02-26|Conjunto da Conce...|+55 (031) 3385 4717|ísiscavalcanti@cu...|2024-06-27 03:05:...| cliente|\n|         9|  Stephany Teixeira|1971-03-03|Área Gabrielly Bo...|       41 4006 4118|stephanyteixeira@...|2024-06-27 03:05:...| cliente|\n|        10|     Rodrigo Santos|1960-10-25|Feira Campos, 309...|       71 7236 4394|rodrigosantos@sou...|2024-06-27 03:05:...| cliente|\n+----------+-------------------+----------+--------------------+-------------------+--------------------+--------------------+--------+\nonly showing top 10 rows\n\n"
     ]
    }
   ],
   "source": [
    "df_cliente = spark.read.format(\"delta\").load('/mnt/satcseguroimoveis/bronze/cliente')\n",
    "df_cliente.show(10)"
   ]
  }
 ],
 "metadata": {
  "application/vnd.databricks.v1+notebook": {
   "dashboards": [],
   "environmentMetadata": null,
   "language": "python",
   "notebookMetadata": {
    "mostRecentlyExecutedCommandWithImplicitDF": {
     "commandId": -1,
     "dataframes": [
      "_sqldf"
     ]
    },
    "pythonIndentUnit": 4
   },
   "notebookName": "bronze",
   "widgets": {}
  }
 },
 "nbformat": 4,
 "nbformat_minor": 0
}
